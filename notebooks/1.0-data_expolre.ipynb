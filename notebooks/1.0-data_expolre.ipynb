{
 "cells": [
  {
   "cell_type": "code",
   "id": "ea18d82c",
   "metadata": {
    "ExecuteTime": {
     "end_time": "2025-10-15T09:41:24.272844Z",
     "start_time": "2025-10-15T09:41:23.212312Z"
    }
   },
   "source": [
    "import pandas as pd\n",
    "import matplotlib.pyplot as plt\n",
    "\n",
    "def create_features(customers, history, reference_df):\n",
    "    \"\"\"\n",
    "    Ham verilerden model için özellik matrisi oluşturur.\n",
    "\n",
    "    Süreç:\n",
    "    1. İşlem geçmişindeki (history) eksik değerleri 0 ile doldurur.\n",
    "    2. Her müşteri için referans tarihinden önceki tüm işlemleri özetler (toplam, ortalama, vb.).\n",
    "    3. Müşterinin ne kadar süredir aktif olduğunu ve son işleminin ne zaman olduğunu hesaplar.\n",
    "    4. Bu özetlenmiş özellikleri demografik verilerle birleştirir.\n",
    "    5. Kategorik değişkenleri modelin anlayacağı formata (one-hot encoding) çevirir.\n",
    "    \"\"\"\n",
    "    print(\"Özellik mühendisliği adımı başlıyor...\")\n",
    "\n",
    "    # Adım 1: History tablosundaki eksik değerleri 0 ile doldurma\n",
    "    transaction_cols = ['mobile_eft_all_cnt', 'mobile_eft_all_amt', 'cc_transaction_all_amt', 'cc_transaction_all_cnt']\n",
    "    history[transaction_cols] = history[transaction_cols].fillna(0)\n",
    "\n",
    "    # Adım 2: Her müşteri için işlem geçmişini özetleme\n",
    "    # Bu adımda tüm zamanlardaki işlem verilerini toplayıp özetliyoruz.\n",
    "    # Daha karmaşık özellikler (örn: son 3 ay) ileride eklenebilir.\n",
    "    agg_dict = {\n",
    "        'mobile_eft_all_cnt': ['sum', 'mean'],\n",
    "        'mobile_eft_all_amt': ['sum', 'mean'],\n",
    "        'cc_transaction_all_amt': ['sum', 'mean'],\n",
    "        'cc_transaction_all_cnt': ['sum', 'mean'],\n",
    "        'active_product_category_nbr': ['mean', 'std'],\n",
    "        'ref_dt': ['max', 'count'] # 'max' son işlem tarihini, 'count' aktif ay sayısını verir\n",
    "    }\n",
    "\n",
    "    history_agg = history.groupby('musteri_id').agg(agg_dict).reset_index()\n",
    "\n",
    "    # Sütun isimlerini daha anlaşılır hale getirelim (örn: ('sum', 'mobile_eft_all_cnt') -> 'sum_mobile_eft_all_cnt')\n",
    "    history_agg.columns = ['_'.join(col).strip() for col in history_agg.columns.values]\n",
    "    history_agg.rename(columns={'musteri_id_': 'musteri_id', 'ref_dt_max': 'son_islem_tarihi', 'ref_dt_count': 'aktif_ay_sayisi'}, inplace=True)\n",
    "    \n",
    "    # Adım 3: Referans tablosu ile birleştirme ve yeni zaman özellikleri türetme\n",
    "    # reference_df -> df_ref_train veya df_ref_test olabilir.\n",
    "    df = pd.merge(reference_df, history_agg, on='musteri_id', how='left')\n",
    "\n",
    "    # Recency (Yenilik) özelliği: Referans tarihi ile son işlem tarihi arasındaki gün farkı\n",
    "    df['son_islem_gun_farki'] = (df['ref_dt'] - df['son_islem_tarihi']).dt.days\n",
    "    \n",
    "    # Artık 'son_islem_tarihi' sütununa ihtiyacımız yok.\n",
    "    df.drop('son_islem_tarihi', axis=1, inplace=True)\n",
    "\n",
    "    # Adım 4: Demografik verileri birleştirme\n",
    "    df = pd.merge(df, customers, on='musteri_id', how='left')\n",
    "\n",
    "    # Adım 5: Kategorik değişkenleri işleme\n",
    "    # work_sector'daki eksikliği \"Bilinmiyor\" kategorisi ile dolduralım.\n",
    "    df['work_sector'] = df['work_sector'].fillna('Bilinmiyor')\n",
    "\n",
    "    # One-Hot Encoding için kategorik sütunları belirleyelim.\n",
    "    # province gibi çok fazla kategoriye sahip sütunları şimdilik dışarıda bırakıyoruz.\n",
    "    categorical_cols = ['gender', 'religion', 'work_type', 'work_sector']\n",
    "    df = pd.get_dummies(df, columns=categorical_cols, drop_first=True, dtype=float)\n",
    "\n",
    "\n",
    "\n",
    "    print(\"Özellik mühendisliği tamamlandı.\")\n",
    "    plt.show(df)\n",
    "    return df\n",
    "\n"
   ],
   "outputs": [],
   "execution_count": 1
  },
  {
   "cell_type": "code",
   "id": "aed6978d",
   "metadata": {
    "ExecuteTime": {
     "end_time": "2025-10-13T17:38:33.440828Z",
     "start_time": "2025-10-13T17:38:33.280647Z"
    }
   },
   "source": [
    "plt.show(df)"
   ],
   "outputs": [
    {
     "ename": "NameError",
     "evalue": "name 'df' is not defined",
     "output_type": "error",
     "traceback": [
      "\u001B[31m---------------------------------------------------------------------------\u001B[39m",
      "\u001B[31mNameError\u001B[39m                                 Traceback (most recent call last)",
      "\u001B[36mCell\u001B[39m\u001B[36m \u001B[39m\u001B[32mIn[2]\u001B[39m\u001B[32m, line 1\u001B[39m\n\u001B[32m----> \u001B[39m\u001B[32m1\u001B[39m plt.show(\u001B[43mdf\u001B[49m)\n",
      "\u001B[31mNameError\u001B[39m: name 'df' is not defined"
     ]
    }
   ],
   "execution_count": 2
  },
  {
   "metadata": {},
   "cell_type": "code",
   "outputs": [],
   "execution_count": null,
   "source": "",
   "id": "5de4129e0d67b076"
  },
  {
   "metadata": {},
   "cell_type": "code",
   "outputs": [],
   "execution_count": null,
   "source": "",
   "id": "a8c0788c1828c6f7"
  },
  {
   "metadata": {},
   "cell_type": "code",
   "outputs": [],
   "execution_count": null,
   "source": "",
   "id": "2fdcff17686e83aa"
  }
 ],
 "metadata": {
  "kernelspec": {
   "display_name": ".venv",
   "language": "python",
   "name": "python3"
  },
  "language_info": {
   "name": "python",
   "version": "3.13.1"
  }
 },
 "nbformat": 4,
 "nbformat_minor": 5
}
